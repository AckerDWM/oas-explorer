{
 "cells": [
  {
   "cell_type": "markdown",
   "metadata": {},
   "source": [
    "# structure\n",
    "\n",
    "> Predicting antibody structure"
   ]
  },
  {
   "cell_type": "code",
   "execution_count": 1,
   "metadata": {},
   "outputs": [],
   "source": [
    "#| default_exp structure"
   ]
  },
  {
   "cell_type": "code",
   "execution_count": 2,
   "metadata": {},
   "outputs": [],
   "source": [
    "#| hide\n",
    "from nbdev.showdoc import *\n",
    "import nbdev; nbdev.nbdev_export()"
   ]
  },
  {
   "cell_type": "code",
   "execution_count": 3,
   "metadata": {},
   "outputs": [
    {
     "name": "stdout",
     "output_type": "stream",
     "text": [
      "Warning: PyRosetta not found, OpenMM will be used instead.\n",
      "No module named 'pyrosetta'\n"
     ]
    }
   ],
   "source": [
    "import os\n",
    "from igfold import IgFoldRunner\n",
    "from tempfile import TemporaryDirectory"
   ]
  },
  {
   "cell_type": "code",
   "execution_count": 4,
   "metadata": {},
   "outputs": [
    {
     "name": "stdout",
     "output_type": "stream",
     "text": [
      "\n",
      "    The code, data, and weights for this work are made available for non-commercial use \n",
      "    (including at commercial entities) under the terms of the JHU Academic Software License \n",
      "    Agreement. For commercial inquiries, please contact jruffolo[at]jhu.edu.\n",
      "    License: https://github.com/Graylab/IgFold/blob/main/LICENSE.md\n",
      "    \n",
      "Loading 4 IgFold models...\n",
      "Using device: cpu\n",
      "Loading /opt/anaconda3/envs/oas-explorer/lib/python3.10/site-packages/igfold/trained_models/IgFold/igfold_1.ckpt...\n",
      "Loading /opt/anaconda3/envs/oas-explorer/lib/python3.10/site-packages/igfold/trained_models/IgFold/igfold_2.ckpt...\n",
      "Loading /opt/anaconda3/envs/oas-explorer/lib/python3.10/site-packages/igfold/trained_models/IgFold/igfold_3.ckpt...\n",
      "Loading /opt/anaconda3/envs/oas-explorer/lib/python3.10/site-packages/igfold/trained_models/IgFold/igfold_5.ckpt...\n",
      "Successfully loaded 4 IgFold models.\n"
     ]
    },
    {
     "name": "stderr",
     "output_type": "stream",
     "text": [
      "/opt/anaconda3/envs/oas-explorer/lib/python3.10/site-packages/torch/amp/autocast_mode.py:198: UserWarning: User provided device_type of 'cuda', but CUDA is not available. Disabling\n",
      "  warnings.warn('User provided device_type of \\'cuda\\', but CUDA is not available. Disabling')\n"
     ]
    },
    {
     "name": "stdout",
     "output_type": "stream",
     "text": [
      "Completed folding in 16.98 seconds.\n"
     ]
    }
   ],
   "source": [
    "sequences = {\n",
    "    \"H\": \"EVQLVQSGPEVKKPGTSVKVSCKASGFTFMSSAVQWVRQARGQRLEWIGWIVIGSGNTNYAQKFQERVTITRDMSTSTAYMELSSLRSEDTAVYYCAAPYCSSISCNDGFDIWGQGTMVTVS\",\n",
    "    \"L\": \"DVVMTQTPFSLPVSLGDQASISCRSSQSLVHSNGNTYLHWYLQKPGQSPKLLIYKVSNRFSGVPDRFSGSGSGTDFTLKISRVEAEDLGVYFCSQSTHVPYTFGGGTKLEIK\"\n",
    "}\n",
    "\n",
    "with TemporaryDirectory() as temp:\n",
    "    pred_pdb = os.path.join(temp, \"my_antibody.pdb\")\n",
    "    igfold = IgFoldRunner()\n",
    "    coord_tensor = igfold.fold(\n",
    "        pred_pdb, # Output PDB file\n",
    "        sequences=sequences, # Antibody sequence\n",
    "        do_refine=False, # Refine the antibody structure with PyRosetta\n",
    "        do_renum=True, # Renumber predicted antibody structure (Chothia)\n",
    "    )"
   ]
  }
 ],
 "metadata": {
  "kernelspec": {
   "display_name": "Python 3 (ipykernel)",
   "language": "python",
   "name": "python3"
  },
  "language_info": {
   "codemirror_mode": {
    "name": "ipython",
    "version": 3
   },
   "file_extension": ".py",
   "mimetype": "text/x-python",
   "name": "python",
   "nbconvert_exporter": "python",
   "pygments_lexer": "ipython3",
   "version": "3.10.6"
  }
 },
 "nbformat": 4,
 "nbformat_minor": 4
}
